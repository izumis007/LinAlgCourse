{
  "cells": [
    {
      "cell_type": "markdown",
      "metadata": {
        "id": "view-in-github",
        "colab_type": "text"
      },
      "source": [
        "<a href=\"https://colab.research.google.com/github/izumis007/LinAlgCourse/blob/main/rank/LA_rank_allCode.ipynb\" target=\"_parent\"><img src=\"https://colab.research.google.com/assets/colab-badge.svg\" alt=\"Open In Colab\"/></a>"
      ]
    },
    {
      "cell_type": "markdown",
      "metadata": {
        "id": "qAd2rhMaYKq6"
      },
      "source": [
        "#     COURSE: Linear algebra: theory and implementation\n",
        "##    SECTION: Matrix rank\n",
        "\n",
        "#### Instructor: sincxpress.com\n",
        "##### Course url: https://www.udemy.com/course/linear-algebra-theory-and-implementation/?couponCode=202110"
      ]
    },
    {
      "cell_type": "code",
      "execution_count": 1,
      "metadata": {
        "id": "-dEPDEQMYKq7"
      },
      "outputs": [],
      "source": [
        "import numpy as np\n",
        "import matplotlib.pyplot as plt\n",
        "import math"
      ]
    },
    {
      "cell_type": "markdown",
      "metadata": {
        "id": "CuRlDbt3YKq7"
      },
      "source": [
        "\n",
        "---\n",
        "# VIDEO: Computing rank: theory and practice\n",
        "---\n"
      ]
    },
    {
      "cell_type": "code",
      "execution_count": 2,
      "metadata": {
        "id": "8mr1JkdhYKq8",
        "outputId": "ee9a7967-880a-469a-a29f-1ebfb28baec2",
        "colab": {
          "base_uri": "https://localhost:8080/"
        }
      },
      "outputs": [
        {
          "output_type": "stream",
          "name": "stdout",
          "text": [
            "rank = 4\n"
          ]
        }
      ],
      "source": [
        "# make a matrix\n",
        "m = 4\n",
        "n = 6\n",
        "\n",
        "# create a random matrix\n",
        "A = np.random.randn(m,n)\n",
        "\n",
        "# what is the largest possible rank?\n",
        "ra = np.linalg.matrix_rank(A)\n",
        "print('rank = ' + str(ra))\n",
        "\n",
        "# set last column to be repeat of penultimate column\n",
        "B = A\n",
        "B[:,-1] = B[:,-2]\n",
        "\n",
        "rb = np.linalg.matrix_rank(B)\n",
        "# print('rank = ' + str(rb))"
      ]
    },
    {
      "cell_type": "code",
      "source": [
        "# goal: create reduced-rank matrix using multiplication\n",
        "\n",
        "# use matrix multiplication to create a 10x10 rank-4 matrix\n",
        "A = np.random.randn(10, 4)\n",
        "B = np.random.randn(4, 10)\n",
        "\n",
        "C = A@B\n",
        "print(np.shape(C))\n",
        "print(np.linalg.matrix_rank(C))\n",
        "\n",
        "# generalize to mxn rank-r\n",
        "m = 8\n",
        "n = 47 \n",
        "r = 3\n",
        "A = np.random.randn(m, r) @ np.random.randn(r, n)\n",
        "print(np.shape(A))\n",
        "print(A)\n",
        "print(np.linalg.matrix_rank(A))"
      ],
      "metadata": {
        "id": "Kf2BW_MJe5k9",
        "outputId": "c84362f7-b7ed-46d6-bd3d-ed97d5838678",
        "colab": {
          "base_uri": "https://localhost:8080/"
        }
      },
      "execution_count": 6,
      "outputs": [
        {
          "output_type": "stream",
          "name": "stdout",
          "text": [
            "(10, 10)\n",
            "4\n",
            "(8, 47)\n",
            "[[ 0.37475368 -0.31703892  0.98719532  0.34224027 -0.42603817 -1.36869593\n",
            "   0.13380305 -0.15937068  0.46426512 -0.29350942  0.33471886 -0.30947199\n",
            "   0.49851296  0.35166422  0.60159082 -0.75001335 -0.97350076  1.57192526\n",
            "   0.18557686 -0.55154421 -0.81382846  0.34015459 -0.1982604  -0.53132283\n",
            "   0.39116304 -0.24891689 -0.205859   -0.11932772  0.06604056  0.31098626\n",
            "  -0.62083889  0.42457989 -1.52592516  0.24234818  0.01156333 -0.31682335\n",
            "   0.02181599 -1.68150149  0.91751025  0.48128484  0.70468224 -0.6858657\n",
            "   0.31406509  0.39478846 -0.67607016  1.61504847 -0.48277447]\n",
            " [ 1.58094829  0.01382744  0.25358771  0.41518035 -0.50126467 -2.31883232\n",
            "  -1.34341579  0.19196534  1.65242219 -0.18286546  1.88192149 -1.0400745\n",
            "   2.08364535 -0.23458394  1.52467094  0.57220652 -0.37655938  3.98133912\n",
            "  -1.27102825  1.01400694 -1.48770463 -0.11385381  3.25428446  2.263194\n",
            "  -1.02271126  0.1422772  -0.18503294  0.01750822  1.22436945  0.15147485\n",
            "  -0.81140808 -1.20853213 -4.0545701  -1.49708915 -4.53420656  0.43203058\n",
            "  -0.25641351 -2.79279417 -0.0721964   2.02103107  1.97312696 -3.46502116\n",
            "   0.85131519  0.61537067 -1.38274856  3.32858529 -0.32522197]\n",
            " [ 1.22741968 -0.2596862   1.64916051  0.62392628 -0.73391668 -2.94177003\n",
            "  -0.32845671 -0.05082922  1.52328708 -0.57118632  1.307488   -0.74589467\n",
            "   1.76810315  0.40559413  1.67238678 -0.84503998 -1.62263365  4.17399776\n",
            "  -0.38830894 -0.38640664 -2.00115502  0.79771623  0.85652844  0.04352929\n",
            "   0.29224803 -0.57652599 -0.36008199 -0.14178342  0.59879522  0.57214596\n",
            "  -1.43366346  0.23498881 -4.00472535 -0.30322168 -1.53003968 -0.34815302\n",
            "   0.01809792 -3.68529152  1.56260685  1.59898373  1.96649075 -2.61385086\n",
            "   0.76604152  0.87878199 -1.49438449  3.77197113 -1.02636819]\n",
            " [ 0.31713398  1.79836164 -1.06063494 -0.6993617   1.10066729  1.38040253\n",
            "  -0.77451787  1.02280948  1.01747323  0.03546681  0.63839423  0.84409905\n",
            "   1.28613002 -0.8420532   0.70379923  1.77504763  1.31946192  0.64905382\n",
            "  -1.84039592  1.56079113 -0.50018632  1.43434501  0.89375572  1.48487782\n",
            "  -0.39283988 -1.12267603  0.38495546  0.38371712  0.51078217 -0.15524359\n",
            "  -0.45716458 -0.73250302  0.03439044 -1.48284526 -0.45219657  0.42551557\n",
            "   0.38512708  1.15024197 -0.19197187  0.56399256  0.49842193 -1.68683253\n",
            "  -0.39560921 -0.10734656  0.9014404  -0.97094825 -0.42307513]\n",
            " [-0.44198053 -0.46835103 -1.32133213 -0.13351983  0.02551008  1.20446726\n",
            "  -0.25803155 -0.24649016 -1.05080443  0.53320696 -0.45678182 -0.24506018\n",
            "  -1.14361615 -0.28893797 -1.18583847  0.65449754  1.08524147 -2.34365166\n",
            "   0.33488212  0.52553159  1.51726089 -1.66844395  0.9834252   0.96587065\n",
            "  -0.93191951  1.2878503   0.12551532  0.01419529 -0.03761931 -0.5049394\n",
            "   1.31807187 -0.85138395  1.7870122  -0.09069612 -1.31538843  0.54869543\n",
            "  -0.37989265  1.84578289 -1.83938867 -0.67040058 -1.11685531  1.31267257\n",
            "  -0.11518348 -0.55073983  0.37286645 -1.63293563  1.17429201]\n",
            " [ 0.34321787  4.26443667 -0.36288602 -1.44988219  2.45893939  2.38464528\n",
            "  -0.38707975  2.28849793  2.58062501 -0.59127314  0.83021032  2.65299987\n",
            "   2.99848358 -1.1290987   2.22329592  2.26892298  1.29355601  2.34147811\n",
            "  -3.41709302  1.76698084 -2.31620669  5.34374596 -1.54438503  0.24551266\n",
            "   1.16050545 -4.18777732  0.69742087  0.7366127   0.35634885  0.32937591\n",
            "  -2.34005163  0.4741598  -0.12815372 -1.95489406  3.65872905 -0.19489938\n",
            "   1.46923953  1.2771509   2.31356698  0.90802024  1.44947062 -3.23214888\n",
            "  -1.12515902  0.21868242  2.07709091 -1.54065763 -2.35002847]\n",
            " [ 1.06436953  0.06861785 -0.12490041  0.2166474  -0.26478439 -1.32618202\n",
            "  -1.04979312  0.1721554   1.06589144 -0.03643027  1.2986508  -0.70981676\n",
            "   1.37483123 -0.27849609  0.92907942  0.64949271  0.01828649  2.46180051\n",
            "  -0.98057084  0.92282143 -0.8316329  -0.25130162  2.52811189  1.87175411\n",
            "  -0.90793209  0.23113342 -0.07982925  0.04411685  0.89590218  0.00988787\n",
            "  -0.38511584 -1.05137962 -2.55479703 -1.18419748 -3.45246553  0.42951816\n",
            "  -0.21522083 -1.56996239 -0.37525518  1.3550561   1.24110452 -2.35085807\n",
            "   0.55044895  0.33286904 -0.84296663  1.99723151 -0.06397322]\n",
            " [-1.82926893 -1.73005178 -3.25320659 -0.30820197 -0.05397832  3.62355142\n",
            "   0.03849063 -1.00016088 -3.64234048  1.45185963 -2.06883738 -0.49040028\n",
            "  -4.11945651 -0.43417229 -3.86076266  1.00519323  2.60948712 -7.78231998\n",
            "   1.85841687  0.56403351  4.65687095 -4.71895825  1.1170883   1.27373627\n",
            "  -1.94830259  3.62667785  0.28953893 -0.07616059 -0.69394792 -1.33299812\n",
            "   3.87367519 -1.57440503  6.16397183  0.7300093  -1.63383177  1.15607471\n",
            "  -1.00540147  5.53977997 -4.72869735 -2.6581314  -3.78934413  5.18454333\n",
            "  -0.50632088 -1.6378718   1.23604633 -5.23164441  3.30823345]]\n",
            "3\n"
          ]
        }
      ]
    },
    {
      "cell_type": "code",
      "execution_count": null,
      "metadata": {
        "id": "V5MH_4OnYKq8"
      },
      "outputs": [],
      "source": [
        "## adding noise to a rank-deficient matrix\n",
        "\n",
        "# square for convenience\n",
        "A = np.round( 10*np.random.randn(m,m) )\n",
        "\n",
        "# reduce the rank\n",
        "A[:,-1] = A[:,-2]\n",
        "\n",
        "# noise level\n",
        "noiseamp = .001\n",
        "\n",
        "# add the noise\n",
        "B = A + noiseamp*np.random.randn(m,m)\n",
        "\n",
        "print('rank (w/o noise) = ' + str(np.linalg.matrix_rank(A)))\n",
        "print('rank (with noise) = ' + str(np.linalg.matrix_rank(B)))\n"
      ]
    },
    {
      "cell_type": "code",
      "source": [
        "m = 6 \n",
        "n = 4\n",
        "F = np.random.randn(m, n) @ np.random.randn(n, n)\n",
        "R = np.random.randn(m, n-1) @ np.random.randn(n-1, m)\n",
        "\n",
        "print(np.linalg.matrix_rank(F))"
      ],
      "metadata": {
        "id": "OLaxZFnPgqAo",
        "outputId": "4eace1dc-bb92-425f-c209-4daf94d75bdb",
        "colab": {
          "base_uri": "https://localhost:8080/"
        }
      },
      "execution_count": 9,
      "outputs": [
        {
          "output_type": "stream",
          "name": "stdout",
          "text": [
            "4\n"
          ]
        }
      ]
    },
    {
      "cell_type": "markdown",
      "metadata": {
        "id": "4KZBK6G1YKq8"
      },
      "source": [
        "\n",
        "---\n",
        "# VIDEO: Rank of A^TA and AA^T\n",
        "---\n"
      ]
    },
    {
      "cell_type": "code",
      "execution_count": 10,
      "metadata": {
        "id": "UYWBK4n4YKq8",
        "outputId": "c98ee720-3321-4b92-dffe-6a1f7a3860b4",
        "colab": {
          "base_uri": "https://localhost:8080/"
        }
      },
      "outputs": [
        {
          "output_type": "stream",
          "name": "stdout",
          "text": [
            "AtA: 3x3, rank=3\n",
            "AAt: 14x14, rank=3\n"
          ]
        }
      ],
      "source": [
        "# matrix sizes\n",
        "m = 14\n",
        "n =  3\n",
        "\n",
        "# create matrices\n",
        "A = np.round( 10*np.random.randn(m,n) )\n",
        "\n",
        "AtA = A.T@A\n",
        "AAt = A@A.T\n",
        "\n",
        "# get matrix sizes\n",
        "sizeAtA = AtA.shape\n",
        "sizeAAt = AAt.shape\n",
        "\n",
        "# print info!\n",
        "print('AtA: %dx%d, rank=%d' %(sizeAtA[0],sizeAtA[1],np.linalg.matrix_rank(AtA)))\n",
        "print('AAt: %dx%d, rank=%d' %(sizeAAt[0],sizeAAt[1],np.linalg.matrix_rank(AAt)))\n"
      ]
    },
    {
      "cell_type": "markdown",
      "metadata": {
        "id": "eTIEnAYbYKq8"
      },
      "source": [
        "\n",
        "---\n",
        "# VIDEO: Making a matrix full-rank by \"shifting\"\n",
        "---\n"
      ]
    },
    {
      "cell_type": "code",
      "execution_count": 11,
      "metadata": {
        "id": "D746AVS4YKq8",
        "outputId": "0ecdce76-3f9b-4539-9e42-ae8208e41ca6",
        "colab": {
          "base_uri": "https://localhost:8080/"
        }
      },
      "outputs": [
        {
          "output_type": "stream",
          "name": "stdout",
          "text": [
            "rank(w/o shift) = 29\n",
            "rank(with shift) = 30\n"
          ]
        }
      ],
      "source": [
        "# size of matrix\n",
        "m = 30\n",
        "\n",
        "# create the square symmetric matrix\n",
        "A = np.random.randn(m,m)\n",
        "A = np.round( 10*A.T@A )\n",
        "\n",
        "# reduce the rank\n",
        "A[:,0] = A[:,1]\n",
        "\n",
        "# shift amount (l=lambda)\n",
        "l = .01\n",
        "\n",
        "# new matrix\n",
        "B = A + l*np.eye(m,m)\n",
        "\n",
        "# print information\n",
        "print('rank(w/o shift) = %d' %np.linalg.matrix_rank(A))\n",
        "print('rank(with shift) = %d' %np.linalg.matrix_rank(B))\n"
      ]
    }
  ],
  "metadata": {
    "kernelspec": {
      "display_name": "Python 3",
      "language": "python",
      "name": "python3"
    },
    "language_info": {
      "codemirror_mode": {
        "name": "ipython",
        "version": 3
      },
      "file_extension": ".py",
      "mimetype": "text/x-python",
      "name": "python",
      "nbconvert_exporter": "python",
      "pygments_lexer": "ipython3",
      "version": "3.7.3"
    },
    "colab": {
      "provenance": [],
      "include_colab_link": true
    }
  },
  "nbformat": 4,
  "nbformat_minor": 0
}