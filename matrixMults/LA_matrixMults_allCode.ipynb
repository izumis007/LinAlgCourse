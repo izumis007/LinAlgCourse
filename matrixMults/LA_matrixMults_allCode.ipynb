{
  "cells": [
    {
      "cell_type": "markdown",
      "metadata": {
        "id": "view-in-github",
        "colab_type": "text"
      },
      "source": [
        "<a href=\"https://colab.research.google.com/github/izumis007/LinAlgCourse/blob/main/matrixMults/LA_matrixMults_allCode.ipynb\" target=\"_parent\"><img src=\"https://colab.research.google.com/assets/colab-badge.svg\" alt=\"Open In Colab\"/></a>"
      ]
    },
    {
      "cell_type": "markdown",
      "metadata": {
        "id": "NvI4l6hNQsrG"
      },
      "source": [
        "#     COURSE: Linear algebra: theory and implementation\n",
        "##    SECTION: Matrix multiplications\n",
        "\n",
        "#### Instructor: sincxpress.com\n",
        "##### Course url: https://www.udemy.com/course/linear-algebra-theory-and-implementation/?couponCode=202110"
      ]
    },
    {
      "cell_type": "code",
      "execution_count": 14,
      "metadata": {
        "id": "MZDFyyTXQsrI"
      },
      "outputs": [],
      "source": [
        "import numpy as np\n",
        "import matplotlib.pyplot as plt\n",
        "import math"
      ]
    },
    {
      "cell_type": "markdown",
      "metadata": {
        "id": "wL4GPo8WQsrK"
      },
      "source": [
        "\n",
        "---\n",
        "# VIDEO: Standard matrix multiplication, parts 1 & 2\n",
        "---\n"
      ]
    },
    {
      "cell_type": "code",
      "execution_count": 5,
      "metadata": {
        "id": "LvRB3Y0dQsrK",
        "outputId": "ab3af1c8-59de-428b-979e-c18040585e4a",
        "colab": {
          "base_uri": "https://localhost:8080/"
        }
      },
      "outputs": [
        {
          "output_type": "execute_result",
          "data": {
            "text/plain": [
              "array([[-1.66808711, -0.28093321, -0.50100578],\n",
              "       [ 1.03357351,  1.20973561, -2.4938806 ],\n",
              "       [-1.59554024, -1.07137413, -0.36371411],\n",
              "       [ 0.41060387,  6.34540346,  2.03071745]])"
            ]
          },
          "metadata": {},
          "execution_count": 5
        }
      ],
      "source": [
        "## rules for multiplication validity\n",
        "\n",
        "m = 4\n",
        "n = 3\n",
        "k = 6\n",
        "\n",
        "# make some matrices\n",
        "A = np.random.randn(m,n) #4,3\n",
        "B = np.random.randn(n,k) #3,6\n",
        "C = np.random.randn(m,k) #4,6\n",
        "\n",
        "# test which multiplications are valid.\n",
        "# Think of your answer first, then test.\n",
        "np.matmul(A,B) # OK\n",
        "np.matmul(A.T,A) # No\n",
        "np.matmul(A.T,C) # OK\n",
        "np.matmul(B,B.T) # OK\n",
        "np.matmul(np.matrix.transpose(B),B) #OK\n",
        "np.matmul(B,C.T) #No\n",
        "np.matmul(C,B.T) #No\n",
        "np.matmul(C,B.T) #No\n",
        "np.matmul(C,B.T)"
      ]
    },
    {
      "cell_type": "code",
      "source": [
        "m = 4\n",
        "n = 6\n",
        "A = np.random.randn(m, n)\n",
        "B = np.random.randn(n, m)\n",
        "print(A)\n",
        "print(B)\n",
        "\n",
        "c1 = np.zeros((m, m))\n",
        "print(c1)\n",
        "\n",
        "for i in range(n):\n",
        "  c1 += np.outer(A[:, i], B[i, :])\n",
        "  print(c1)\n",
        "\n",
        "c2 = A@B\n",
        "\n",
        "print(c1-c2)"
      ],
      "metadata": {
        "id": "wWcrvIZUVMHf",
        "outputId": "bd983717-75b9-4b8d-f707-f8526be2ad46",
        "colab": {
          "base_uri": "https://localhost:8080/"
        }
      },
      "execution_count": 13,
      "outputs": [
        {
          "output_type": "stream",
          "name": "stdout",
          "text": [
            "[[ 0.28186671  0.15540325 -0.18157233  0.67307451 -0.78388307 -0.81527643]\n",
            " [ 0.60713226  1.03725594  0.45347398  0.27634541 -1.13954199 -0.01674311]\n",
            " [-0.14018499  1.73690739 -0.60544357  0.52349907 -1.71193516 -0.03094135]\n",
            " [-0.77000205  0.72587055  0.13282994  0.01431423  0.4261302  -1.28631828]]\n",
            "[[ 0.74983803  1.0603019  -1.06906254 -1.59146476]\n",
            " [-0.25064718 -1.27311304 -1.26066728  1.36207087]\n",
            " [-0.82504535  0.83897842 -1.28598242  2.39966044]\n",
            " [-1.86306207 -0.28618442  1.80298547  1.6494167 ]\n",
            " [ 0.25087847 -0.98472403  0.63166629  1.69039109]\n",
            " [-0.59721321  0.2880031  -0.86017313  2.1305224 ]]\n",
            "[[0. 0. 0. 0.]\n",
            " [0. 0. 0. 0.]\n",
            " [0. 0. 0. 0.]\n",
            " [0. 0. 0. 0.]]\n",
            "[[ 0.21135437  0.2988638  -0.30133314 -0.44858093]\n",
            " [ 0.45525086  0.64374349 -0.64906235 -0.9662296 ]\n",
            " [-0.10511604 -0.14863841  0.14986652  0.22309947]\n",
            " [-0.57737682 -0.81643464  0.82318034  1.22543113]]\n",
            "[[ 0.17240299  0.10101791 -0.49724492 -0.2369107 ]\n",
            " [ 0.19526558 -0.67680057 -1.95669699  0.4465865 ]\n",
            " [-0.54046697 -2.35991785 -2.0397958   2.58889043]\n",
            " [-0.75931422 -1.74054989 -0.09190091  2.21411825]]\n",
            "[[ 0.32220839 -0.05131736 -0.2637461  -0.67262263]\n",
            " [-0.17887101 -0.29634569 -2.53985655  1.53477006]\n",
            " [-0.04094857 -2.86787195 -1.26120601  1.13603144]\n",
            " [-0.86890495 -1.62910844 -0.26271788  2.53286501]]\n",
            "[[-0.93177119 -0.24394079  0.94979746  0.43755771]\n",
            " [-0.69371967 -0.37543144 -2.04160979  1.9905788 ]\n",
            " [-1.01625984 -3.01768922 -0.31734479  1.99949955]\n",
            " [-0.89557324 -1.63320495 -0.23690953  2.55647514]]\n",
            "[[-1.12843058  0.5279677   0.45464495 -0.88751125]\n",
            " [-0.97960623  0.74670295 -2.76142005  0.06430718]\n",
            " [-1.44574752 -1.33190553 -1.39871652 -0.89434038]\n",
            " [-0.78866635 -2.05282559  0.03226255  3.27680184]]\n",
            "[[-0.64153673  0.29316556  1.15592382 -2.62447593]\n",
            " [-0.96960702  0.74188088 -2.74701808  0.0286356 ]\n",
            " [-1.42726894 -1.34081674 -1.37210161 -0.96026161]\n",
            " [-0.02046008 -2.42328925  1.13871897  0.53627193]]\n",
            "[[-1.11022302e-16  1.11022302e-16  0.00000000e+00  0.00000000e+00]\n",
            " [ 1.11022302e-16  0.00000000e+00  0.00000000e+00 -3.05311332e-16]\n",
            " [ 0.00000000e+00  0.00000000e+00 -2.22044605e-16  0.00000000e+00]\n",
            " [-4.51028104e-17  0.00000000e+00  0.00000000e+00 -5.55111512e-16]]\n"
          ]
        }
      ]
    },
    {
      "cell_type": "markdown",
      "metadata": {
        "id": "WeC8Rq8yQsrK"
      },
      "source": [
        "\n",
        "---\n",
        "# VIDEO: Order-of-operations on matrices\n",
        "---\n"
      ]
    },
    {
      "cell_type": "code",
      "execution_count": 8,
      "metadata": {
        "id": "nD2rP72oQsrL",
        "outputId": "18cbb9f6-81c1-4c06-d5fd-db9e53d919eb",
        "colab": {
          "base_uri": "https://localhost:8080/"
        }
      },
      "outputs": [
        {
          "output_type": "execute_result",
          "data": {
            "text/plain": [
              "array([[-1.06581410e-14,  0.00000000e+00, -5.32907052e-15,\n",
              "         0.00000000e+00,  1.77635684e-15, -3.55271368e-15,\n",
              "         0.00000000e+00],\n",
              "       [-4.88498131e-15, -8.88178420e-16, -7.10542736e-15,\n",
              "         5.32907052e-15,  1.77635684e-15, -2.66453526e-15,\n",
              "        -5.32907052e-15],\n",
              "       [ 0.00000000e+00, -7.10542736e-15, -1.42108547e-14,\n",
              "        -1.42108547e-14, -3.55271368e-15, -5.32907052e-15,\n",
              "         0.00000000e+00],\n",
              "       [ 8.88178420e-16,  3.55271368e-15,  3.55271368e-15,\n",
              "         3.55271368e-15,  0.00000000e+00,  0.00000000e+00,\n",
              "        -3.55271368e-15],\n",
              "       [ 6.21724894e-15,  0.00000000e+00, -7.10542736e-15,\n",
              "        -1.06581410e-14,  3.55271368e-15,  0.00000000e+00,\n",
              "         7.10542736e-15],\n",
              "       [ 3.55271368e-15, -4.44089210e-15,  0.00000000e+00,\n",
              "        -1.42108547e-14, -7.10542736e-15,  4.44089210e-15,\n",
              "         7.10542736e-15],\n",
              "       [-7.10542736e-15, -1.77635684e-15,  0.00000000e+00,\n",
              "         2.13162821e-14,  0.00000000e+00, -2.66453526e-15,\n",
              "        -1.06581410e-14]])"
            ]
          },
          "metadata": {},
          "execution_count": 8
        }
      ],
      "source": [
        "\n",
        "n = 7\n",
        "L = np.random.randn(n,n)\n",
        "I = np.random.randn(n,n)\n",
        "V = np.random.randn(n,n)\n",
        "E = np.random.randn(n,n)\n",
        "\n",
        "# result of \"forward\" multiplication and then transpose\n",
        "res1 = np.matrix.transpose( L @ I @ V @ E )\n",
        "\n",
        "# result of \"flipped\" multiplication of transposed matrices\n",
        "res2 = E.T @ V.T @ I.T @ L.T\n",
        "\n",
        "# test equality by subtracting (ignore possible computer rounding errors)\n",
        "res1-res2"
      ]
    },
    {
      "cell_type": "markdown",
      "metadata": {
        "id": "IMqNPvZCQsrL"
      },
      "source": [
        "\n",
        "---\n",
        "# VIDEO: Matrix-vector multiplication\n",
        "---\n"
      ]
    },
    {
      "cell_type": "code",
      "execution_count": 20,
      "metadata": {
        "id": "02LMCcIIQsrL",
        "outputId": "9cbcc80a-5722-48b9-c329-098f8ac27a17",
        "colab": {
          "base_uri": "https://localhost:8080/"
        }
      },
      "outputs": [
        {
          "output_type": "stream",
          "name": "stdout",
          "text": [
            "[  5.  10. -11.  -5.]\n",
            "[  5.  10. -11.  -5.]\n",
            "[  5.  10. -11.  -5.]\n",
            "[  5.  10. -11.  -5.]\n",
            "[  5.  10. -11.  -5.]\n",
            "[  5 -21 -22  22]\n",
            "[-3 -5  8  3]\n",
            "[-3 -5  8  3]\n",
            "[  5 -21 -22  22]\n",
            "[-3 -5  8  3]\n"
          ]
        }
      ],
      "source": [
        "\n",
        "# number of elements\n",
        "m = 4\n",
        "\n",
        "# create matrices\n",
        "N = np.random.randint(-10,11,(m,m)) # min to max\n",
        "S = np.round( N.T*N / m**2 ) # scaled symmetric\n",
        "\n",
        "# and vector\n",
        "w = np.array([-1, 0, 1, 2])\n",
        "\n",
        "# with symmetric matrix\n",
        "print( S@w )     # 1\n",
        "print( S.T@w )   # 2\n",
        "print( w@S )     # 3\n",
        "print( w.T@S.T ) # 4\n",
        "print( w.T@S )   # 5\n",
        "\n",
        "\n",
        "# with nonsymmetric matrix\n",
        "print( N@w )     # 1\n",
        "print( N.T@w )   # 2\n",
        "print( w@N )     # 3\n",
        "print( w.T@N.T ) # 4\n",
        "print( w.T@N )   # 5\n"
      ]
    },
    {
      "cell_type": "markdown",
      "metadata": {
        "id": "PZ3pYWdbQsrL"
      },
      "source": [
        "\n",
        "---\n",
        "# VIDEO: 2D transformation matrices\n",
        "---\n"
      ]
    },
    {
      "cell_type": "code",
      "execution_count": 26,
      "metadata": {
        "id": "WiueSsQPQsrM",
        "outputId": "d6fa9329-3a67-4fb9-eb8c-899c87cc6b0b",
        "colab": {
          "base_uri": "https://localhost:8080/",
          "height": 281
        }
      },
      "outputs": [
        {
          "output_type": "display_data",
          "data": {
            "text/plain": [
              "<Figure size 432x288 with 1 Axes>"
            ],
            "image/png": "[encoded data removed]"
          },
          "metadata": {
            "needs_background": "light"
          }
        }
      ],
      "source": [
        "# 2D input vector\n",
        "v = np.array([ 3, -2 ])\n",
        "\n",
        "# 2x2 transformation matrix\n",
        "A = np.array([ [10,10], [20,10] ])\n",
        "\n",
        "# output vector is Av (convert v to column)\n",
        "w = A@np.matrix.transpose(v)\n",
        "\n",
        "\n",
        "# plot them\n",
        "plt.plot([0,v[0]],[0,v[1]],label='v')\n",
        "plt.plot([0,w[0]],[0,w[1]],label='Av')\n",
        "\n",
        "plt.grid()\n",
        "plt.axis((-6, 6, -6, 6))\n",
        "plt.legend()\n",
        "plt.title('Rotation + stretching')\n",
        "plt.show()"
      ]
    },
    {
      "cell_type": "code",
      "execution_count": 41,
      "metadata": {
        "id": "E-lkgPC3QsrM",
        "outputId": "458d18f7-3c20-4ee8-fe7f-a884de8a852e",
        "colab": {
          "base_uri": "https://localhost:8080/",
          "height": 320
        }
      },
      "outputs": [
        {
          "output_type": "stream",
          "name": "stdout",
          "text": [
            "[ 3 -2]\n",
            "[ 3 -2]\n"
          ]
        },
        {
          "output_type": "display_data",
          "data": {
            "text/plain": [
              "<Figure size 432x288 with 1 Axes>"
            ],
            "image/png": "[encoded data removed]"
          },
          "metadata": {
            "needs_background": "light"
          }
        }
      ],
      "source": [
        "## pure rotation\n",
        "\n",
        "# 2D input vector\n",
        "v = np.array([ 3, -2 ])\n",
        "\n",
        "# 2x2 rotation matrix\n",
        "th = np.pi/3\n",
        "A = np.array([ [2*math.cos(th),-math.sin(th)], \n",
        "                     [math.sin(th),math.cos(th)] ])\n",
        "\n",
        "# output vector is Av (convert v to column)\n",
        "w = A@np.matrix.transpose(v)\n",
        "print(v)\n",
        "print(np.matrix.transpose(v))\n",
        "\n",
        "\n",
        "\n",
        "# plot them\n",
        "plt.plot([0,v[0]],[0,v[1]],label='v')\n",
        "plt.plot([0,w[0]],[0,w[1]],label='Av')\n",
        "\n",
        "plt.grid()\n",
        "plt.axis((-4, 4, -4, 4))\n",
        "plt.legend()\n",
        "plt.title('Pure rotation')\n",
        "plt.show()"
      ]
    },
    {
      "cell_type": "code",
      "source": [
        "thetas = np.linspace(0, 2*np.pi, 100)\n",
        "vecmags = np.zeros((len(thetas), 2))\n",
        "vecmags\n",
        "\n",
        "for i in range(len(thetas)):\n",
        "  th = thetas[i]\n",
        "  A1= np.array([[2*math.cos(th), -math.sin(th)], \n",
        "                          [math.sin(th), math.cos(th)]])\n",
        "  A2 = np.array([[math.cos(th), -math.sin(th)], \n",
        "                        [math.sin(th), math.cos(th)]])\n",
        "  vecmags[i, 0] = np.linalg.norm(A1@v.T)\n",
        "  vecmags[i, 1] = np.linalg.norm(A2@v.T)\n",
        "\n",
        "plt.plot(thetas, vecmags, \"o-\")\n",
        "plt.xlabel(\"Rotation angle (rad.\")\n",
        "plt.ylabel(\"Av magnitude\")\n",
        "plt.legend([\"impure rotation\", \"pure rotation\"])\n",
        "plt.show()\n"
      ],
      "metadata": {
        "id": "F9c1Z0Y2kEk_",
        "outputId": "6586e857-71d9-4103-e879-5df1c20829b3",
        "colab": {
          "base_uri": "https://localhost:8080/",
          "height": 279
        }
      },
      "execution_count": 52,
      "outputs": [
        {
          "output_type": "display_data",
          "data": {
            "text/plain": [
              "<Figure size 432x288 with 1 Axes>"
            ],
            "image/png": "[encoded data removed]"
          },
          "metadata": {
            "needs_background": "light"
          }
        }
      ]
    },
    {
      "cell_type": "code",
      "source": [
        "x = np.linspace(-np.pi, np.pi, 100)\n",
        "xy =np.vstack((np.cos(x), np.sin(x))).T\n",
        "\n",
        "# plot the circle\n",
        "plt.plot(xy[ : , 0], xy[ : , 1], \"o\")\n",
        "\n",
        "# create a matrix\n",
        "T = np.array([ [4, 2], [2, 1] ])\n",
        "\n",
        "# multiply matrix by coords\n",
        "newxy = xy@T\n",
        "\n",
        "# plot the new coords\n",
        "plt.plot(newxy[ : , 0], newxy[ : , 1], \"o\")\n",
        "plt.axis(\"square\")\n",
        "plt.show()"
      ],
      "metadata": {
        "id": "HHVsjXPgrEn6",
        "outputId": "9e22647c-03bc-431e-a5f8-bc9fc1af74d9",
        "colab": {
          "base_uri": "https://localhost:8080/",
          "height": 265
        }
      },
      "execution_count": 71,
      "outputs": [
        {
          "output_type": "display_data",
          "data": {
            "text/plain": [
              "<Figure size 432x288 with 1 Axes>"
            ],
            "image/png": "[encoded data removed]"
          },
          "metadata": {
            "needs_background": "light"
          }
        }
      ]
    },
    {
      "cell_type": "markdown",
      "metadata": {
        "id": "wnaiq_C5QsrM"
      },
      "source": [
        "\n",
        "---\n",
        "# VIDEO: Additive and multiplicative matrix identities\n",
        "---\n"
      ]
    },
    {
      "cell_type": "code",
      "execution_count": 74,
      "metadata": {
        "id": "B26Eo6VTQsrM",
        "outputId": "dd40be10-1d23-4883-9744-de323ecb52b8",
        "colab": {
          "base_uri": "https://localhost:8080/"
        }
      },
      "outputs": [
        {
          "output_type": "stream",
          "name": "stdout",
          "text": [
            "True\n",
            "True\n",
            "False\n",
            "True\n",
            "True\n"
          ]
        }
      ],
      "source": [
        "# size of matrices\n",
        "n = 4\n",
        "\n",
        "# create the matrices\n",
        "A = np.round( 10*np.random.randn(n,n) )\n",
        "I = np.eye(n)\n",
        "Z = np.zeros((n,n))\n",
        "\n",
        "# test both identities\n",
        "print(np.array_equal( A@I , A   ))\n",
        "print(np.array_equal( A   , A@I ))\n",
        "print(np.array_equal( A   , A+I ))\n",
        "\n",
        "print(np.array_equal( A   , A+Z ))\n",
        "print(np.array_equal( A+Z , A@I ))\n"
      ]
    },
    {
      "cell_type": "markdown",
      "metadata": {
        "id": "QXySw61WQsrN"
      },
      "source": [
        "\n",
        "---\n",
        "# VIDEO: Additive and multiplicative symmetric matrices\n",
        "---\n"
      ]
    },
    {
      "cell_type": "code",
      "execution_count": 75,
      "metadata": {
        "id": "aVSqU0yNQsrN",
        "outputId": "eccd582c-67ee-4915-b4e4-9c194464bf75",
        "colab": {
          "base_uri": "https://localhost:8080/"
        }
      },
      "outputs": [
        {
          "output_type": "stream",
          "name": "stdout",
          "text": [
            "[[0. 0. 0. 0. 0.]\n",
            " [0. 0. 0. 0. 0.]\n",
            " [0. 0. 0. 0. 0.]\n",
            " [0. 0. 0. 0. 0.]\n",
            " [0. 0. 0. 0. 0.]]\n"
          ]
        }
      ],
      "source": [
        "## the additive method\n",
        "\n",
        "# specify sizes\n",
        "m = 5\n",
        "n = 5\n",
        "\n",
        "# create matrices\n",
        "A = np.random.randn(m,n)\n",
        "S = ( A + A.T )/2\n",
        "\n",
        "# A symmetric matrix minus its transpose should be all zeros\n",
        "print( S-S.T )\n"
      ]
    },
    {
      "cell_type": "code",
      "execution_count": 76,
      "metadata": {
        "id": "197s60qiQsrN",
        "outputId": "e92d4662-e2e1-4df4-bd55-43ec4de9f114",
        "colab": {
          "base_uri": "https://localhost:8080/"
        }
      },
      "outputs": [
        {
          "output_type": "stream",
          "name": "stdout",
          "text": [
            "(3, 3)\n",
            "(5, 5)\n",
            "[[0. 0. 0.]\n",
            " [0. 0. 0.]\n",
            " [0. 0. 0.]]\n",
            "[[0. 0. 0. 0. 0.]\n",
            " [0. 0. 0. 0. 0.]\n",
            " [0. 0. 0. 0. 0.]\n",
            " [0. 0. 0. 0. 0.]\n",
            " [0. 0. 0. 0. 0.]]\n"
          ]
        }
      ],
      "source": [
        "## the multiplicative method\n",
        "\n",
        "# specify sizes\n",
        "m = 5\n",
        "n = 3\n",
        "\n",
        "# create matrices\n",
        "A   = np.random.randn(m,n)\n",
        "AtA = A.T@A\n",
        "AAt = A@A.T\n",
        "\n",
        "# first, show that they are square\n",
        "print( AtA.shape )\n",
        "print( AAt.shape )\n",
        "\n",
        "\n",
        "# next, show that they are symmetric\n",
        "print( AtA - AtA.T )\n",
        "print( AAt - AAt.T )\n",
        "\n"
      ]
    },
    {
      "cell_type": "markdown",
      "metadata": {
        "id": "kkI3PquKQsrN"
      },
      "source": [
        "\n",
        "---\n",
        "# VIDEO: Element-wise (Hadamard) multiplication\n",
        "---\n"
      ]
    },
    {
      "cell_type": "code",
      "execution_count": 78,
      "metadata": {
        "id": "uHOla-m1QsrN",
        "outputId": "b055140f-d3fe-47d7-9ea3-baa68b7a8ce2",
        "colab": {
          "base_uri": "https://localhost:8080/"
        }
      },
      "outputs": [
        {
          "output_type": "stream",
          "name": "stdout",
          "text": [
            "[[-1.34419526e-03  3.05779251e-01]\n",
            " [-5.20510374e-02 -5.28571218e-01]\n",
            " [-6.70748634e-01 -1.77296947e+00]\n",
            " [-5.60473800e-02 -1.04254478e+00]\n",
            " [-3.41232853e-01 -4.65272262e-01]\n",
            " [ 1.23366770e-01  7.17920566e-01]\n",
            " [ 6.36828467e-01  7.27822235e-02]\n",
            " [-3.89884304e-01 -9.72682648e-01]\n",
            " [-8.12602815e-02 -2.65989714e-01]\n",
            " [-9.71182854e-01  1.88544086e-01]\n",
            " [ 6.81018068e-02 -6.09062011e-01]\n",
            " [-5.56986218e-01 -4.55821790e-01]\n",
            " [ 6.14324122e-01  6.75244978e-02]]\n",
            " \n",
            "[[-1.34419526e-03  3.05779251e-01]\n",
            " [-5.20510374e-02 -5.28571218e-01]\n",
            " [-6.70748634e-01 -1.77296947e+00]\n",
            " [-5.60473800e-02 -1.04254478e+00]\n",
            " [-3.41232853e-01 -4.65272262e-01]\n",
            " [ 1.23366770e-01  7.17920566e-01]\n",
            " [ 6.36828467e-01  7.27822235e-02]\n",
            " [-3.89884304e-01 -9.72682648e-01]\n",
            " [-8.12602815e-02 -2.65989714e-01]\n",
            " [-9.71182854e-01  1.88544086e-01]\n",
            " [ 6.81018068e-02 -6.09062011e-01]\n",
            " [-5.56986218e-01 -4.55821790e-01]\n",
            " [ 6.14324122e-01  6.75244978e-02]]\n",
            " \n",
            "[[0. 0.]\n",
            " [0. 0.]\n",
            " [0. 0.]\n",
            " [0. 0.]\n",
            " [0. 0.]\n",
            " [0. 0.]\n",
            " [0. 0.]\n",
            " [0. 0.]\n",
            " [0. 0.]\n",
            " [0. 0.]\n",
            " [0. 0.]\n",
            " [0. 0.]\n",
            " [0. 0.]]\n"
          ]
        }
      ],
      "source": [
        "# any matrix sizes\n",
        "m = 13\n",
        "n =  2\n",
        "\n",
        "# ...but the two matrices must be the same size\n",
        "A = np.random.randn(m,n)\n",
        "B = np.random.randn(m,n)\n",
        "\n",
        "# note the different syntax compared to @ for matrix multiplication\n",
        "C1 = np.multiply( A,B )\n",
        "C2 = A*B\n",
        "\n",
        "print(C1), print(' ')\n",
        "print(C2), print(' ')\n",
        "\n",
        "print(C1-C2)\n"
      ]
    },
    {
      "cell_type": "code",
      "source": [
        "m = 5\n",
        "n = 4\n",
        "A = np.random.randn(m,n)\n",
        "B = np.random.randn(m,n)\n",
        "A = A.T@A\n",
        "B = B.T@B\n",
        "print(A+B) # symmetric\n",
        "print(A@B) # not symmetric\n",
        "print(B@A) # not symmetric\n",
        "print(A*B) # symmetric"
      ],
      "metadata": {
        "id": "Zey4XFyrzt_o",
        "outputId": "4dcaee42-f43a-4e98-d190-5108fc22b0da",
        "colab": {
          "base_uri": "https://localhost:8080/"
        }
      },
      "execution_count": 83,
      "outputs": [
        {
          "output_type": "stream",
          "name": "stdout",
          "text": [
            "[[28.50600124  6.70328206  2.42174329 -9.708496  ]\n",
            " [ 6.70328206 14.0556843  -1.68632533  3.16063587]\n",
            " [ 2.42174329 -1.68632533 12.133236   -0.04624444]\n",
            " [-9.708496    3.16063587 -0.04624444 11.9292581 ]]\n",
            "[[102.52740629  22.42749877  10.74547255 -45.73223497]\n",
            " [ 36.72254223  31.96447613  11.01690288  -3.07255651]\n",
            " [-64.45271556 -16.44310147   8.86942306  34.74510922]\n",
            " [-53.24581142   3.80641216   2.24482759  37.25239939]]\n",
            "[[102.52740629  36.72254223 -64.45271556 -53.24581142]\n",
            " [ 22.42749877  31.96447613 -16.44310147   3.80641216]\n",
            " [ 10.74547255  11.01690288   8.86942306   2.24482759]\n",
            " [-45.73223497  -3.07255651  34.74510922  37.25239939]]\n",
            "[[101.00212614   9.94576083 -19.64431714  11.22383646]\n",
            " [  9.94576083  38.79504093  -7.72751084  -9.0488148 ]\n",
            " [-19.64431714  -7.72751084  36.46791473  -0.22666369]\n",
            " [ 11.22383646  -9.0488148   -0.22666369  35.30404142]]\n"
          ]
        }
      ]
    },
    {
      "cell_type": "markdown",
      "metadata": {
        "id": "6e6A2jEEQsrO"
      },
      "source": [
        "\n",
        "---\n",
        "# VIDEO: Multiplication of two symmetric matrices\n",
        "---\n"
      ]
    },
    {
      "cell_type": "code",
      "execution_count": 85,
      "metadata": {
        "id": "CIOV4Z6VQsrO",
        "outputId": "67cb1143-dca5-4667-c233-34c1fb48ffeb",
        "colab": {
          "base_uri": "https://localhost:8080/"
        }
      },
      "outputs": [
        {
          "output_type": "stream",
          "name": "stdout",
          "text": [
            "Matrix([[0, 0, 0, 0], [0, 0, 0, 0], [0, 0, 0, 0], [0, 0, 0, 0]])\n",
            "Matrix([[0, 0, 0, 0], [0, 0, 0, 0], [0, 0, 0, 0], [0, 0, 0, 0]])\n",
            "a\n",
            "a\n",
            "a\n",
            "a\n",
            "l\n",
            "l\n",
            "l\n",
            "l\n"
          ]
        }
      ],
      "source": [
        "# using the sympy library\n",
        "from sympy import *\n",
        "\n",
        "a,b,c,d,e,f,g,h,k,l,m,n,o,p,q,r,s,t,u = symbols('a b c d e f g h k l m n o p q r s t u', real=True)\n",
        "\n",
        "# symmetric and constant-diagonal matrices\n",
        "A = Matrix([ [a,b,c,d],\n",
        "                  [b,a,e,f],\n",
        "                  [c,e,a,h],\n",
        "                  [d,f,h,a]   ])\n",
        "\n",
        "B = Matrix([ [l,m,n,o],\n",
        "                  [m,l,q,r],\n",
        "                  [n,q,l,t],\n",
        "                  [o,r,t,l]   ])\n",
        "\n",
        "\n",
        "# confirmation that A and B are symmetric\n",
        "print( A - A.transpose() )\n",
        "print( B - B.transpose() )\n",
        "\n",
        "# ... and constant diagonal\n",
        "for i in range(0,np.size(A,0)):\n",
        "    print( A[i,i] )\n",
        "for i in range(0,np.size(B,0)):\n",
        "    print( B[i,i] )\n"
      ]
    },
    {
      "cell_type": "code",
      "execution_count": 92,
      "metadata": {
        "id": "8ImGmRHOQsrO",
        "outputId": "aa2d3b08-4593-46c0-8525-191f9bda4b94",
        "colab": {
          "base_uri": "https://localhost:8080/"
        }
      },
      "outputs": [
        {
          "output_type": "stream",
          "name": "stdout",
          "text": [
            "Matrix([[0, c*q + d*r - e*n - f*o, b*q + d*t - e*m - h*o, b*r + c*t - f*m - h*n], [-c*q - d*r + e*n + f*o, 0, b*n - c*m + f*t - h*r, b*o - d*m + e*t - h*q], [-b*q - d*t + e*m + h*o, -b*n + c*m - f*t + h*r, 0, c*o - d*n + e*r - f*q], [-b*r - c*t + f*m + h*n, -b*o + d*m - e*t + h*q, -c*o + d*n - e*r + f*q, 0]])\n",
            "Matrix([[0, 0], [0, 0]])\n"
          ]
        }
      ],
      "source": [
        "# nice printing in sympy\n",
        "init_printing()\n",
        "\n",
        "# but AB neq (AB)'\n",
        "print(A@B - (A@B).T)\n",
        "\n",
        "# maybe for a submatrix?\n",
        "n = 2\n",
        "A1 = A[ 0:n,0:n ]\n",
        "B1 = B[ 0:n,0:n ]\n",
        "\n",
        "print(A1@B1 - (A1@B1).T)"
      ]
    },
    {
      "cell_type": "code",
      "source": [
        "m = 4\n",
        "A = np.random.randn(m, m)\n",
        "B = np.diag(np.random.randn(m))\n",
        "print(A@A)\n",
        "print(A*A)\n",
        "print(B@B)\n",
        "print(B*B)"
      ],
      "metadata": {
        "id": "27dPJrKK_XV8",
        "outputId": "7d526fff-791e-42ea-eeb2-23ef21e3471e",
        "colab": {
          "base_uri": "https://localhost:8080/"
        }
      },
      "execution_count": 96,
      "outputs": [
        {
          "output_type": "stream",
          "name": "stdout",
          "text": [
            "[[-1.80736128e-01 -2.38271312e-01  1.63665516e+00  2.41116862e-02]\n",
            " [ 2.03816447e-01  8.31470574e-01  1.60114971e-01  4.31781643e-01]\n",
            " [-1.64031335e-01 -9.25421596e-02  5.74828116e-01  1.67292378e-01]\n",
            " [-3.22880619e-01 -2.29373471e+00 -1.89892152e+00  1.81592649e-03]]\n",
            "[[4.37624554e-03 1.33894369e+00 3.95505699e-01 3.48634269e-02]\n",
            " [5.24215314e-06 1.70761852e-01 1.77824073e+00 6.29663002e-03]\n",
            " [3.12140796e-02 3.37524249e-01 6.61135629e-02 6.95260334e-02]\n",
            " [1.68530270e-01 2.16162388e+00 3.45113555e-01 3.50035157e-01]]\n",
            "[[0.17101373 0.         0.         0.        ]\n",
            " [0.         1.21875688 0.         0.        ]\n",
            " [0.         0.         0.1871181  0.        ]\n",
            " [0.         0.         0.         0.32484045]]\n",
            "[[0.17101373 0.         0.         0.        ]\n",
            " [0.         1.21875688 0.         0.        ]\n",
            " [0.         0.         0.1871181  0.        ]\n",
            " [0.         0.         0.         0.32484045]]\n"
          ]
        }
      ]
    },
    {
      "cell_type": "code",
      "source": [
        "n = 52\n",
        "omega = np.e**(-2*np.pi*1j/n)\n",
        "\n",
        "F = np.zeros((n, n), dtype=complex)\n",
        "\n",
        "for j in range(n):\n",
        "  for k in range(n):\n",
        "    m = j * k\n",
        "    F[j, k] = omega**m\n",
        "\n",
        "plt.imshow(F.real, cmap='jet')\n",
        "plt.show()\n",
        "\n",
        "x = np.random.randn(n)\n",
        "X1 = F@x\n",
        "X2 = np.fft.fft(x)\n",
        "\n",
        "plt.figure()\n",
        "plt.plot(abs(X1))\n",
        "plt.plot(abs(X2), marker='o', color='r', linestyle='None')\n",
        "plt.show()\n",
        "plt.plot(F.real[:, 25])\n",
        "plt.show()"
      ],
      "metadata": {
        "id": "rqK8_-5lCDzM",
        "outputId": "538c3c51-6ec5-48eb-913f-f4c3c60df36e",
        "colab": {
          "base_uri": "https://localhost:8080/",
          "height": 763
        }
      },
      "execution_count": 99,
      "outputs": [
        {
          "output_type": "display_data",
          "data": {
            "text/plain": [
              "<Figure size 432x288 with 1 Axes>"
            ],
            "image/png": "[encoded data removed]"
          },
          "metadata": {
            "needs_background": "light"
          }
        },
        {
          "output_type": "display_data",
          "data": {
            "text/plain": [
              "<Figure size 432x288 with 1 Axes>"
            ],
            "image/png": "[encoded data removed]"
          },
          "metadata": {
            "needs_background": "light"
          }
        },
        {
          "output_type": "display_data",
          "data": {
            "text/plain": [
              "<Figure size 432x288 with 1 Axes>"
            ],
            "image/png": "[encoded data removed]"
          },
          "metadata": {
            "needs_background": "light"
          }
        }
      ]
    },
    {
      "cell_type": "markdown",
      "metadata": {
        "id": "xNu4PmnPQsrO"
      },
      "source": [
        "\n",
        "---\n",
        "# VIDEO: Frobenius dot-product\n",
        "---\n"
      ]
    },
    {
      "cell_type": "code",
      "execution_count": 104,
      "metadata": {
        "id": "lnWa8SykQsrO",
        "outputId": "c9bc865f-a648-4ee0-8e4b-57e7e898dcc3",
        "colab": {
          "base_uri": "https://localhost:8080/"
        }
      },
      "outputs": [
        {
          "output_type": "stream",
          "name": "stdout",
          "text": [
            "[ 0.44393529  0.24675059 -1.03045903  0.03220097 -0.41874087 -3.02377781\n",
            " -0.63951654 -2.18555686  0.24711377  0.15536019 -0.52227101  0.03522005\n",
            " -0.80237408 -1.07142845  0.7710796   0.4436772  -0.27276409  0.00625283\n",
            "  2.28327111 -0.45810965  0.64488033  0.37130281 -1.31981582  2.1898638\n",
            " -0.71751941 -1.5112313  -1.4120164  -0.07787446 -0.67881234  0.70030502\n",
            "  0.17733045  1.42504741 -0.60456317  0.06743133  1.6454608  -0.94906752]\n",
            "[ 0.74332143 -0.84302541 -0.91185669  1.04981428 -1.79368551 -0.54515647\n",
            "  0.34584659  1.92443953  0.47278846 -1.58262767  0.51272913  0.5117294\n",
            "  0.2003949   0.76740347  1.6786813   0.80430349  0.73740271 -0.97413808\n",
            " -1.80389081  0.87161568  0.95768823  1.19623491  0.43773029  1.420603\n",
            " -0.18257196 -1.09866374  0.55570064  0.42210393 -0.80519114 -1.08930475\n",
            " -0.71231872  1.63328525 -1.29473132 -0.53886032 -1.17022015 -0.7398527 ]\n",
            "0.7086368701106383\n",
            "0.7086368701106389\n",
            "6.568597730958636\n",
            "6.568597730958636\n"
          ]
        }
      ],
      "source": [
        "# any matrix sizes\n",
        "m = 9\n",
        "n = 4\n",
        "\n",
        "# but the two matrices must be the same size\n",
        "A = np.random.randn(m,n)\n",
        "B = np.random.randn(m,n)\n",
        "\n",
        "# first vectorize, then vector-dot-product\n",
        "Av = np.reshape( A,m*n, order='F' ) # order='F' reshapes by columns instead of by rows\n",
        "Bv = np.reshape( B,m*n, order='F' )\n",
        "\n",
        "print(Av)\n",
        "print(Bv)\n",
        "\n",
        "frob_dp = np.dot( Av,Bv )\n",
        "\n",
        "# trace method\n",
        "frob_dp2 = np.trace( A.T@B )\n",
        "print(frob_dp2)\n",
        "print(frob_dp)\n",
        "\n",
        "# matrix norm\n",
        "Anorm  = np.linalg.norm(A,'fro')\n",
        "Anorm2 = np.sqrt( np.trace( A.T@A ) )\n",
        "print(Anorm)\n",
        "print(Anorm2)"
      ]
    },
    {
      "cell_type": "markdown",
      "metadata": {
        "id": "eBvoVjdPQsrO"
      },
      "source": [
        "# VIDEO: Matrix norms"
      ]
    },
    {
      "cell_type": "code",
      "execution_count": 105,
      "metadata": {
        "id": "X60MkYQdQsrO",
        "outputId": "4d512c7a-775b-4483-c4a7-bc4b5b892fe8",
        "colab": {
          "base_uri": "https://localhost:8080/"
        }
      },
      "outputs": [
        {
          "output_type": "stream",
          "name": "stdout",
          "text": [
            "16.431676725154983 16.431676725154986 16.392007827749776\n"
          ]
        }
      ],
      "source": [
        "# Create a matrix\n",
        "A = np.array([ [1,2,3], [4,5,6], [7,7,9] ])\n",
        "\n",
        "# optional orthogonal matrix to show that 2-norm is 1\n",
        "Q,R = np.linalg.qr(np.random.randn(5,5))\n",
        "# A = Q\n",
        "\n",
        "# Frobenius norm\n",
        "normFrob = np.linalg.norm(A,'fro')\n",
        "\n",
        "# induced 2-norm\n",
        "normInd2 = np.linalg.norm(A,2)\n",
        "# note: computed as below\n",
        "lamb = np.sqrt( np.max(np.linalg.eig(A.T@A)[0]) )\n",
        "\n",
        "# schatten p-norm\n",
        "p = 2\n",
        "s = np.linalg.svd(A)[1] # get singular values\n",
        "normSchat = np.sum(s**p)**(1/p)\n",
        "\n",
        "\n",
        "# % show all norms for comparison\n",
        "print(normFrob,normSchat,normInd2)\n"
      ]
    },
    {
      "cell_type": "code",
      "source": [
        "m = 5\n",
        "\n",
        "A = np.random.randn(m, m)\n",
        "A = A@A.T\n",
        "print(A)\n",
        "\n",
        "v = np.random.randn(m)\n",
        "w = np.random.rand(m)\n",
        "\n",
        "np.dot(A@v, w) - np.dot(v, A@w)\n"
      ],
      "metadata": {
        "id": "8Ng9a_6DLtw0",
        "outputId": "033848b7-a78a-4bb8-e81f-44c5aac585be",
        "colab": {
          "base_uri": "https://localhost:8080/",
          "height": 134
        }
      },
      "execution_count": 108,
      "outputs": [
        {
          "output_type": "stream",
          "name": "stdout",
          "text": [
            "[[ 8.2871382   2.47299465 -4.05200792 -3.62278483 -1.00353239]\n",
            " [ 2.47299465  9.95628037 -1.73735161  0.53737903  3.81499203]\n",
            " [-4.05200792 -1.73735161  3.12338939  0.99221948 -0.27532194]\n",
            " [-3.62278483  0.53737903  0.99221948  7.03142295  0.07084427]\n",
            " [-1.00353239  3.81499203 -0.27532194  0.07084427  3.88738254]]\n"
          ]
        },
        {
          "output_type": "execute_result",
          "data": {
            "text/plain": [
              "6.661338147750939e-16"
            ],
            "image/png": "[encoded data removed]",
            "text/latex": "$\\displaystyle 6.66133814775094 \\cdot 10^{-16}$"
          },
          "metadata": {},
          "execution_count": 108
        }
      ]
    },
    {
      "cell_type": "code",
      "source": [
        "# part1: implement MAI\n",
        "\n",
        "def MAI(A):\n",
        "  Aanti = (A - A.T)/2\n",
        "  mai = np.linalg.norm(Aanti) / np.linalg.norm(A)\n",
        "  return mai"
      ],
      "metadata": {
        "id": "g9iEROq9PrhQ"
      },
      "execution_count": 109,
      "outputs": []
    },
    {
      "cell_type": "code",
      "source": [
        "# part2: compute MAI for symmetric, skew-symmetric, and rondom matrix\n",
        "A = np.random.randn(5, 5)\n",
        "print(A)\n",
        "print(A.T)\n",
        "A = (A-A.T)/2\n",
        "print(A)\n",
        "print(MAI(A))\n"
      ],
      "metadata": {
        "id": "1BX8MZTcP8Vh",
        "outputId": "ef9135af-11fc-4ec7-b42e-b4200e0a87b8",
        "colab": {
          "base_uri": "https://localhost:8080/"
        }
      },
      "execution_count": 113,
      "outputs": [
        {
          "output_type": "stream",
          "name": "stdout",
          "text": [
            "[[-1.21285128 -0.70125483 -0.29632871 -0.32535686 -0.33174291]\n",
            " [-1.08353041  2.09300309  0.15305936 -0.03910298  0.74289694]\n",
            " [ 0.12993001  0.13675334  0.33217286 -0.92342841 -0.99220924]\n",
            " [-0.64599412 -1.03002261 -0.59342044 -0.24205252 -0.73833654]\n",
            " [-0.1338592   2.00687653 -0.21207035 -0.18493704  0.65531999]]\n",
            "[[-1.21285128 -1.08353041  0.12993001 -0.64599412 -0.1338592 ]\n",
            " [-0.70125483  2.09300309  0.13675334 -1.03002261  2.00687653]\n",
            " [-0.29632871  0.15305936  0.33217286 -0.59342044 -0.21207035]\n",
            " [-0.32535686 -0.03910298 -0.92342841 -0.24205252 -0.18493704]\n",
            " [-0.33174291  0.74289694 -0.99220924 -0.73833654  0.65531999]]\n",
            "[[ 0.          0.19113779 -0.21312936  0.16031863 -0.09894185]\n",
            " [-0.19113779  0.          0.00815301  0.49545982 -0.6319898 ]\n",
            " [ 0.21312936 -0.00815301  0.         -0.16500399 -0.39006944]\n",
            " [-0.16031863 -0.49545982  0.16500399  0.         -0.27669975]\n",
            " [ 0.09894185  0.6319898   0.39006944  0.27669975  0.        ]]\n",
            "1.0\n"
          ]
        }
      ]
    },
    {
      "cell_type": "code",
      "source": [
        "# part3: formula for mixing skew/symmetric matrices\n",
        "\n",
        "p = 0\n",
        "A = np.random.randn(5, 5)\n",
        "B = (1-p)*(A+A.T)/2 + p*(A-A.T)/2\n",
        "B\n"
      ],
      "metadata": {
        "id": "1rVZfsWSQ7Q_",
        "outputId": "cf47156c-f77a-447a-fd7d-cc329869430d",
        "colab": {
          "base_uri": "https://localhost:8080/"
        }
      },
      "execution_count": 116,
      "outputs": [
        {
          "output_type": "execute_result",
          "data": {
            "text/plain": [
              "array([[-0.96604074,  0.47366918, -0.2070699 ,  0.90467878, -0.92617149],\n",
              "       [ 0.47366918, -1.42332208,  0.13900545, -0.92471964, -0.23000994],\n",
              "       [-0.2070699 ,  0.13900545, -1.94924731, -0.78794491, -0.15315616],\n",
              "       [ 0.90467878, -0.92471964, -0.78794491, -0.79399417, -0.10472912],\n",
              "       [-0.92617149, -0.23000994, -0.15315616, -0.10472912,  0.76542385]])"
            ]
          },
          "metadata": {},
          "execution_count": 116
        }
      ]
    },
    {
      "cell_type": "code",
      "source": [
        "# part4: test on random matrices\n",
        "\n",
        "ps = np.linspace(0, 1, 100)\n",
        "mai = np.zeros(len(ps))\n",
        "\n",
        "for i in range(len(ps)):\n",
        "  # create a matrix \n",
        "  p = ps[i]\n",
        "  A = np.random.randn(5, 5)\n",
        "  B = (1-p)*(A+A.T)/2 + p*(A-A.T)/2\n",
        "  # compute and store the MAI\n",
        "  mai[i] = MAI(B)\n",
        "\n",
        "plt.plot(ps, mai, \"s-\")\n",
        "plt.show()"
      ],
      "metadata": {
        "id": "VWoIN3UHRQ71",
        "outputId": "862e8b81-8b9d-4d12-d1ed-bb853ae0755e",
        "colab": {
          "base_uri": "https://localhost:8080/",
          "height": 265
        }
      },
      "execution_count": 119,
      "outputs": [
        {
          "output_type": "display_data",
          "data": {
            "text/plain": [
              "<Figure size 432x288 with 1 Axes>"
            ],
            "image/png": "[encoded data removed]"
          },
          "metadata": {
            "needs_background": "light"
          }
        }
      ]
    }
  ],
  "metadata": {
    "kernelspec": {
      "display_name": "Python 3",
      "language": "python",
      "name": "python3"
    },
    "language_info": {
      "codemirror_mode": {
        "name": "ipython",
        "version": 3
      },
      "file_extension": ".py",
      "mimetype": "text/x-python",
      "name": "python",
      "nbconvert_exporter": "python",
      "pygments_lexer": "ipython3",
      "version": "3.7.3"
    },
    "colab": {
      "provenance": [],
      "include_colab_link": true
    }
  },
  "nbformat": 4,
  "nbformat_minor": 0
}